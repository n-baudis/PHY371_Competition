{
 "cells": [
  {
   "cell_type": "code",
   "execution_count": 2,
   "metadata": {
    "scrolled": true
   },
   "outputs": [],
   "source": [
    "import tensorflow.keras as keras\n",
    "import numpy as np\n",
    "import pandas as pd\n",
    "import matplotlib.pyplot as plt\n",
    "import tensorflow as tf\n",
    "\n",
    "from sklearn.model_selection import train_test_split\n",
    "from sklearn.preprocessing import MinMaxScaler\n",
    "\n",
    "from scipy.fftpack import fft\n",
    "from scipy.ndimage.filters import gaussian_filter\n",
    "\n",
    "from sklearn.metrics import f1_score\n",
    "\n",
    "plt.style.use('seaborn')"
   ]
  },
  {
   "cell_type": "markdown",
   "metadata": {},
   "source": [
    "### Import Data"
   ]
  },
  {
   "cell_type": "code",
   "execution_count": 3,
   "metadata": {},
   "outputs": [],
   "source": [
    "from utils.data import *"
   ]
  },
  {
   "cell_type": "code",
   "execution_count": 4,
   "metadata": {},
   "outputs": [],
   "source": [
    "x_train, y_train = load_training_data()"
   ]
  },
  {
   "cell_type": "code",
   "execution_count": 5,
   "metadata": {},
   "outputs": [
    {
     "name": "stdout",
     "output_type": "stream",
     "text": [
      "Shape of x_train: (45360, 512, 3)\n",
      "Shape of y_train: (45360,)\n"
     ]
    }
   ],
   "source": [
    "print(f'Shape of x_train: {x_train.shape}')\n",
    "print(f'Shape of y_train: {y_train.shape}')"
   ]
  },
  {
   "cell_type": "markdown",
   "metadata": {},
   "source": [
    "### Extract Features with PyEEG"
   ]
  },
  {
   "cell_type": "code",
   "execution_count": 6,
   "metadata": {},
   "outputs": [],
   "source": [
    "import pyeeg"
   ]
  },
  {
   "cell_type": "code",
   "execution_count": null,
   "metadata": {},
   "outputs": [],
   "source": [
    "# Too slow\n",
    "fisher_info = np.apply_along_axis(pyeeg.fisher_info, axis=1, \n",
    "                                  arr=x_train, Tau=4, DE=10)\n",
    "\n",
    "ap_entropy = np.apply_along_axis(pyeeg.ap_entropy, axis=1, \n",
    "                                 arr=x_train[:100], M=2, R=0.5)"
   ]
  },
  {
   "cell_type": "code",
   "execution_count": null,
   "metadata": {},
   "outputs": [],
   "source": [
    "def extract_data(x):\n",
    "    # Generate data set with extracted features\n",
    "    # Takes long, save to numpy file afterwards\n",
    "    \n",
    "    pfd = np.apply_along_axis(pyeeg.pfd, axis=1, arr=x)\n",
    "\n",
    "    hfd = np.apply_along_axis(pyeeg.hfd, axis=1, arr=x, Kmax=5)\n",
    "\n",
    "    hjorth = np.apply_along_axis(pyeeg.hjorth, axis=1, arr=x)\n",
    "    hjorth = hjorth.reshape(x.shape[0], 2 * x.shape[2])\n",
    "\n",
    "    hurst = np.apply_along_axis(pyeeg.hurst, axis=1, arr=x)\n",
    "    hurst = np.nan_to_num(hurst)\n",
    "\n",
    "    dfa = np.apply_along_axis(pyeeg.dfa, axis=1, arr=x)\n",
    "\n",
    "    spectral_entropy = np.apply_along_axis(pyeeg.spectral_entropy, axis=1, \n",
    "                                 arr=x, Band=[0.5,4,7,12,30,64], Fs=128)\n",
    "\n",
    "    std = np.apply_along_axis(np.std, axis=1, arr=x)\n",
    "    \n",
    "    power_ratio = np.apply_along_axis(pyeeg.bin_power, axis=1, arr=x_train, Fs=128, \n",
    "                                      Band=[0.5,4,7,12,30,64])[:, 1, :, :]\n",
    "    power_ratio = power_ratio.reshape(power_ratio.shape[0], power_ratio.shape[1] * power_ratio.shape[2])\n",
    "    \n",
    "    x_feat = np.concatenate((dfa, hfd, hjorth, pfd, spectral_entropy, hurst, std, power_ratio), axis=1)\n",
    "\n",
    "x_train_feat = extract_training_data(x_train)"
   ]
  },
  {
   "cell_type": "code",
   "execution_count": null,
   "metadata": {},
   "outputs": [],
   "source": [
    "np.save('data/x_train_feat', x_train_feat)\n",
    "print(x_train_feat.shape)"
   ]
  },
  {
   "cell_type": "code",
   "execution_count": 7,
   "metadata": {},
   "outputs": [
    {
     "name": "stdout",
     "output_type": "stream",
     "text": [
      "(45360, 39)\n"
     ]
    }
   ],
   "source": [
    "x_train_feat = np.load('data/x_train_feat.npy')\n",
    "print(x_train_feat.shape)"
   ]
  },
  {
   "cell_type": "markdown",
   "metadata": {},
   "source": [
    "### Build Neural Network"
   ]
  },
  {
   "cell_type": "code",
   "execution_count": 8,
   "metadata": {},
   "outputs": [],
   "source": [
    "# Generate weights for training (imbalanced classes)\n",
    "class_weight = {}\n",
    "\n",
    "count_0, count_1, count_2 = np.bincount(y_train)\n",
    "total = count_0 + count_1 + count_2\n",
    "\n",
    "for i in range(3):\n",
    "    class_weight[i] = (1 / [count_0, count_1, count_2][i]) * total"
   ]
  },
  {
   "cell_type": "code",
   "execution_count": 9,
   "metadata": {},
   "outputs": [],
   "source": [
    "# Split data for validation\n",
    "x_train_feat_s, x_val_feat, y_train_s, y_val = train_test_split(x_train_feat, y_train, test_size=0.2, random_state=42)"
   ]
  },
  {
   "cell_type": "code",
   "execution_count": 28,
   "metadata": {},
   "outputs": [],
   "source": [
    "model = keras.Sequential([\n",
    "    keras.layers.Dense(512, activation='elu'),\n",
    "    keras.layers.Dropout(0.2),\n",
    "    keras.layers.Dense(512, activation='elu'),\n",
    "    keras.layers.Dropout(0.2),\n",
    "    keras.layers.Dense(3, activation='softmax')\n",
    "])\n",
    "\n",
    "model.compile(optimizer='Adam', \n",
    "                    loss='sparse_categorical_crossentropy', \n",
    "                    metrics=['accuracy'])"
   ]
  },
  {
   "cell_type": "code",
   "execution_count": 29,
   "metadata": {
    "scrolled": true
   },
   "outputs": [
    {
     "name": "stdout",
     "output_type": "stream",
     "text": [
      "Train on 36288 samples, validate on 9072 samples\n",
      "Epoch 1/50\n",
      "36288/36288 [==============================] - 5s 136us/sample - loss: 6.8125 - acc: 0.5948 - val_loss: 0.5835 - val_acc: 0.8157\n",
      "Epoch 2/50\n",
      "36288/36288 [==============================] - 5s 127us/sample - loss: 2.6968 - acc: 0.6167 - val_loss: 0.6480 - val_acc: 0.7409\n",
      "Epoch 3/50\n",
      "36288/36288 [==============================] - 5s 128us/sample - loss: 2.5980 - acc: 0.6332 - val_loss: 0.8989 - val_acc: 0.4647\n",
      "Epoch 4/50\n",
      "36288/36288 [==============================] - 5s 128us/sample - loss: 2.5315 - acc: 0.6366 - val_loss: 0.8488 - val_acc: 0.6261\n",
      "Epoch 5/50\n",
      "36288/36288 [==============================] - 5s 131us/sample - loss: 2.4429 - acc: 0.6603 - val_loss: 0.4643 - val_acc: 0.8534\n",
      "Epoch 6/50\n",
      "36288/36288 [==============================] - 5s 129us/sample - loss: 2.3267 - acc: 0.6836 - val_loss: 0.5852 - val_acc: 0.7664\n",
      "Epoch 7/50\n",
      "36288/36288 [==============================] - 5s 132us/sample - loss: 2.0843 - acc: 0.7360 - val_loss: 0.4418 - val_acc: 0.8212\n",
      "Epoch 8/50\n",
      "36288/36288 [==============================] - 5s 127us/sample - loss: 1.6942 - acc: 0.7978 - val_loss: 0.2857 - val_acc: 0.8888\n",
      "Epoch 9/50\n",
      "36288/36288 [==============================] - 5s 131us/sample - loss: 1.5813 - acc: 0.8130 - val_loss: 0.5624 - val_acc: 0.7519\n",
      "Epoch 10/50\n",
      "36288/36288 [==============================] - 5s 130us/sample - loss: 1.6250 - acc: 0.8046 - val_loss: 0.4708 - val_acc: 0.7819\n",
      "Epoch 11/50\n",
      "36288/36288 [==============================] - 5s 132us/sample - loss: 1.4691 - acc: 0.8237 - val_loss: 0.2939 - val_acc: 0.8830\n",
      "Epoch 12/50\n",
      "36288/36288 [==============================] - 5s 131us/sample - loss: 1.4885 - acc: 0.8249 - val_loss: 0.3967 - val_acc: 0.8320\n",
      "Epoch 13/50\n",
      "36288/36288 [==============================] - 5s 130us/sample - loss: 1.4454 - acc: 0.8277 - val_loss: 0.3619 - val_acc: 0.8610\n",
      "Epoch 14/50\n",
      "36288/36288 [==============================] - 5s 131us/sample - loss: 1.3876 - acc: 0.8383 - val_loss: 0.2214 - val_acc: 0.9173\n",
      "Epoch 15/50\n",
      "36288/36288 [==============================] - 5s 131us/sample - loss: 1.3747 - acc: 0.8421 - val_loss: 0.4690 - val_acc: 0.8256\n",
      "Epoch 16/50\n",
      "36288/36288 [==============================] - 5s 132us/sample - loss: 1.4163 - acc: 0.8358 - val_loss: 0.3343 - val_acc: 0.8652\n",
      "Epoch 17/50\n",
      "36288/36288 [==============================] - 5s 142us/sample - loss: 1.3681 - acc: 0.8435 - val_loss: 0.2482 - val_acc: 0.9034\n",
      "Epoch 18/50\n",
      "36288/36288 [==============================] - 5s 141us/sample - loss: 1.3567 - acc: 0.8434 - val_loss: 0.5405 - val_acc: 0.7492\n",
      "Epoch 19/50\n",
      "36288/36288 [==============================] - 5s 150us/sample - loss: 1.2612 - acc: 0.8550 - val_loss: 0.2772 - val_acc: 0.8867\n",
      "Epoch 20/50\n",
      "36288/36288 [==============================] - 5s 131us/sample - loss: 1.2757 - acc: 0.8573 - val_loss: 0.4574 - val_acc: 0.8376\n",
      "Epoch 21/50\n",
      "36288/36288 [==============================] - 5s 125us/sample - loss: 1.2164 - acc: 0.8646 - val_loss: 0.2359 - val_acc: 0.9248\n",
      "Epoch 22/50\n",
      "36288/36288 [==============================] - 5s 129us/sample - loss: 1.1610 - acc: 0.8712 - val_loss: 0.8354 - val_acc: 0.6965\n",
      "Epoch 23/50\n",
      "36288/36288 [==============================] - 5s 133us/sample - loss: 1.1887 - acc: 0.8671 - val_loss: 0.1803 - val_acc: 0.9427\n",
      "Epoch 24/50\n",
      "36288/36288 [==============================] - 5s 130us/sample - loss: 1.1985 - acc: 0.8701 - val_loss: 0.2377 - val_acc: 0.9144\n",
      "Epoch 25/50\n",
      "36288/36288 [==============================] - 5s 131us/sample - loss: 1.1533 - acc: 0.8741 - val_loss: 0.1903 - val_acc: 0.9318\n",
      "Epoch 26/50\n",
      "36288/36288 [==============================] - 5s 133us/sample - loss: 1.1954 - acc: 0.8690 - val_loss: 0.1749 - val_acc: 0.9429\n",
      "Epoch 27/50\n",
      "36288/36288 [==============================] - 5s 131us/sample - loss: 1.1091 - acc: 0.8814 - val_loss: 0.1786 - val_acc: 0.9377\n",
      "Epoch 28/50\n",
      "36288/36288 [==============================] - 5s 129us/sample - loss: 1.0436 - acc: 0.8851 - val_loss: 0.1666 - val_acc: 0.9469\n",
      "Epoch 29/50\n",
      "36288/36288 [==============================] - 5s 131us/sample - loss: 0.9903 - acc: 0.8926 - val_loss: 0.1500 - val_acc: 0.9498\n",
      "Epoch 30/50\n",
      "36288/36288 [==============================] - 5s 129us/sample - loss: 1.0097 - acc: 0.8927 - val_loss: 0.2553 - val_acc: 0.9307\n",
      "Epoch 31/50\n",
      "36288/36288 [==============================] - 5s 136us/sample - loss: 1.0339 - acc: 0.8913 - val_loss: 0.3329 - val_acc: 0.8614\n",
      "Epoch 32/50\n",
      "36288/36288 [==============================] - 6s 153us/sample - loss: 1.0136 - acc: 0.8926 - val_loss: 0.3900 - val_acc: 0.8507\n",
      "Epoch 33/50\n",
      "36288/36288 [==============================] - 6s 152us/sample - loss: 1.0210 - acc: 0.8908 - val_loss: 0.2543 - val_acc: 0.9145\n",
      "Epoch 34/50\n",
      "36288/36288 [==============================] - 5s 138us/sample - loss: 0.9529 - acc: 0.8993 - val_loss: 0.2256 - val_acc: 0.9192\n",
      "Epoch 35/50\n",
      "36288/36288 [==============================] - 5s 146us/sample - loss: 1.0123 - acc: 0.8917 - val_loss: 0.2514 - val_acc: 0.9169\n",
      "Epoch 36/50\n",
      "36288/36288 [==============================] - 5s 130us/sample - loss: 0.9507 - acc: 0.8969 - val_loss: 0.2070 - val_acc: 0.9350\n",
      "Epoch 37/50\n",
      "36288/36288 [==============================] - 5s 129us/sample - loss: 0.9801 - acc: 0.8951 - val_loss: 0.1486 - val_acc: 0.9506\n",
      "Epoch 38/50\n",
      "36288/36288 [==============================] - 5s 131us/sample - loss: 0.8876 - acc: 0.9053 - val_loss: 0.1630 - val_acc: 0.9473\n",
      "Epoch 39/50\n",
      "36288/36288 [==============================] - 5s 130us/sample - loss: 0.9551 - acc: 0.8986 - val_loss: 0.2693 - val_acc: 0.9110\n",
      "Epoch 40/50\n",
      "36288/36288 [==============================] - 5s 130us/sample - loss: 0.9618 - acc: 0.8968 - val_loss: 0.1668 - val_acc: 0.9430\n",
      "Epoch 41/50\n",
      "36288/36288 [==============================] - 5s 130us/sample - loss: 0.9313 - acc: 0.9030 - val_loss: 0.1529 - val_acc: 0.9521\n",
      "Epoch 42/50\n",
      "36288/36288 [==============================] - 5s 143us/sample - loss: 0.9155 - acc: 0.9053 - val_loss: 0.3406 - val_acc: 0.8862\n",
      "Epoch 43/50\n",
      "36288/36288 [==============================] - 5s 139us/sample - loss: 0.9399 - acc: 0.9009 - val_loss: 0.3811 - val_acc: 0.8557\n",
      "Epoch 44/50\n",
      "36288/36288 [==============================] - 5s 133us/sample - loss: 0.9448 - acc: 0.9035 - val_loss: 0.1350 - val_acc: 0.9550\n",
      "Epoch 45/50\n",
      "36288/36288 [==============================] - 5s 127us/sample - loss: 0.8626 - acc: 0.9094 - val_loss: 0.2432 - val_acc: 0.9227\n",
      "Epoch 46/50\n",
      "36288/36288 [==============================] - 5s 128us/sample - loss: 0.8996 - acc: 0.9062 - val_loss: 0.1410 - val_acc: 0.9529\n",
      "Epoch 47/50\n",
      "36288/36288 [==============================] - 5s 130us/sample - loss: 0.8950 - acc: 0.9053 - val_loss: 0.1648 - val_acc: 0.9468\n",
      "Epoch 48/50\n",
      "36288/36288 [==============================] - 5s 129us/sample - loss: 0.9052 - acc: 0.9060 - val_loss: 0.1812 - val_acc: 0.9419\n",
      "Epoch 49/50\n",
      "36288/36288 [==============================] - 5s 130us/sample - loss: 0.8550 - acc: 0.9137 - val_loss: 0.1875 - val_acc: 0.9361\n",
      "Epoch 50/50\n",
      "36288/36288 [==============================] - 5s 133us/sample - loss: 0.8712 - acc: 0.9088 - val_loss: 0.1496 - val_acc: 0.9483\n"
     ]
    }
   ],
   "source": [
    "history = model.fit(x_train_feat_s, y_train_s, class_weight=class_weight, \n",
    "                    epochs=50, validation_data=(x_val_feat, y_val))"
   ]
  },
  {
   "cell_type": "code",
   "execution_count": 30,
   "metadata": {},
   "outputs": [
    {
     "data": {
      "text/plain": [
       "<matplotlib.legend.Legend at 0x15b9a8e50>"
      ]
     },
     "execution_count": 30,
     "metadata": {},
     "output_type": "execute_result"
    },
    {
     "data": {
      "image/png": "[encoded data removed]",
      "text/plain": [
       "<Figure size 864x360 with 2 Axes>"
      ]
     },
     "metadata": {},
     "output_type": "display_data"
    }
   ],
   "source": [
    "fig, ax = plt.subplots(1, 2, figsize=(12, 5))\n",
    "\n",
    "ax[0].plot(history.history[\"acc\"], \"b-\", label=\"Training accuracy\")\n",
    "ax[0].plot(history.history[\"val_acc\"], \"g-\", label=\"Validation accuracy\")\n",
    "\n",
    "ax[1].plot(history.history[\"loss\"], \"b--\", label=\"Training loss\")\n",
    "ax[1].plot(history.history[\"val_loss\"], \"g--\", label=\"Validation loss\")\n",
    "\n",
    "ax[0].set_xlabel(\"Epochs\")\n",
    "ax[1].set_xlabel(\"Epochs\")\n",
    "\n",
    "ax[0].set_ylabel(\"Accuracy\")\n",
    "ax[1].set_ylabel(\"Loss\")\n",
    "\n",
    "ax[0].legend()\n",
    "ax[1].legend()"
   ]
  },
  {
   "cell_type": "code",
   "execution_count": 31,
   "metadata": {},
   "outputs": [
    {
     "name": "stdout",
     "output_type": "stream",
     "text": [
      "F1 score on training data: 0.8981\n"
     ]
    }
   ],
   "source": [
    "train_f1 = f1_score(y_train, np.argmax(model.predict(x_train_feat), axis=1), average='macro')\n",
    "print(f'F1 score on training data: {train_f1:.4f}')"
   ]
  },
  {
   "cell_type": "code",
   "execution_count": 32,
   "metadata": {},
   "outputs": [
    {
     "name": "stdout",
     "output_type": "stream",
     "text": [
      "F1 score on validation data: 0.9053\n"
     ]
    }
   ],
   "source": [
    "val_f1 = f1_score(y_val, np.argmax(model.predict(x_val_feat), axis=1), average='macro')\n",
    "print(f'F1 score on validation data: {val_f1:.4f}')"
   ]
  },
  {
   "cell_type": "markdown",
   "metadata": {},
   "source": [
    "### Evaluate on Test Data"
   ]
  },
  {
   "cell_type": "code",
   "execution_count": 33,
   "metadata": {},
   "outputs": [],
   "source": [
    "x_test = load_testing_data()"
   ]
  },
  {
   "cell_type": "code",
   "execution_count": null,
   "metadata": {},
   "outputs": [],
   "source": [
    "# Test set with extracted features\n",
    "x_test_feat = extract_data(x_test)\n",
    "np.save('data/x_test_feat', x_test_feat)\n",
    "print(x_test_feat.shape)"
   ]
  },
  {
   "cell_type": "code",
   "execution_count": 34,
   "metadata": {},
   "outputs": [],
   "source": [
    "x_test_feat = np.load('data/x_test_feat.npy')"
   ]
  },
  {
   "cell_type": "code",
   "execution_count": 35,
   "metadata": {},
   "outputs": [],
   "source": [
    "# Get prediction & generate submission file\n",
    "y_test_pred = model.predict(x_test_feat)\n",
    "generate_submission(y_test_pred, 'DeepNN_Pred')"
   ]
  }
 ],
 "metadata": {
  "kernelspec": {
   "display_name": "Python 3",
   "language": "python",
   "name": "python3"
  },
  "language_info": {
   "codemirror_mode": {
    "name": "ipython",
    "version": 3
   },
   "file_extension": ".py",
   "mimetype": "text/x-python",
   "name": "python",
   "nbconvert_exporter": "python",
   "pygments_lexer": "ipython3",
   "version": "3.7.8"
  }
 },
 "nbformat": 4,
 "nbformat_minor": 4
}
