{
 "cells": [
  {
   "cell_type": "code",
   "execution_count": 2,
   "metadata": {},
   "outputs": [],
   "source": [
    "import tensorflow.keras as keras\n",
    "import numpy as np\n",
    "import pandas as pd\n",
    "import matplotlib.pyplot as plt\n",
    "import tensorflow as tf\n",
    "\n",
    "from sklearn.model_selection import train_test_split\n",
    "from sklearn.preprocessing import MinMaxScaler\n",
    "\n",
    "from scipy.fftpack import fft\n",
    "from scipy.ndimage.filters import gaussian_filter\n",
    "\n",
    "from sklearn.metrics import f1_score\n",
    "# import tensorflow_addons as ta\n",
    "\n",
    "plt.style.use('seaborn')"
   ]
  },
  {
   "cell_type": "markdown",
   "metadata": {},
   "source": [
    "### Import Data"
   ]
  },
  {
   "cell_type": "code",
   "execution_count": 3,
   "metadata": {},
   "outputs": [],
   "source": [
    "from utils import data"
   ]
  },
  {
   "cell_type": "code",
   "execution_count": 22,
   "metadata": {},
   "outputs": [],
   "source": [
    "x_train, y_train = data.load_training_data()"
   ]
  },
  {
   "cell_type": "code",
   "execution_count": 23,
   "metadata": {},
   "outputs": [
    {
     "name": "stdout",
     "output_type": "stream",
     "text": [
      "Shape of x_train: (45360, 512, 3)\n",
      "Shape of y_train: (45360,)\n"
     ]
    }
   ],
   "source": [
    "print(f'Shape of x_train: {x_train.shape}')\n",
    "print(f'Shape of y_train: {y_train.shape}')"
   ]
  },
  {
   "cell_type": "markdown",
   "metadata": {},
   "source": [
    "### Preprocessing"
   ]
  },
  {
   "cell_type": "code",
   "execution_count": 28,
   "metadata": {},
   "outputs": [],
   "source": [
    "# Fourier transform data\n",
    "x_train_fft = np.abs(fft(x_train, n=len(x_train[0]), axis=1))\n",
    "x_train_fft = x_train_fft[:, :1 + int((len(x_train_fft[0]) - 1) / 2)]"
   ]
  },
  {
   "cell_type": "markdown",
   "metadata": {},
   "source": [
    "### Build LSTM Model"
   ]
  },
  {
   "cell_type": "code",
   "execution_count": 6,
   "metadata": {},
   "outputs": [],
   "source": [
    "# Generate weights for training (imbalanced classes)\n",
    "class_weight = {}\n",
    "\n",
    "count_0, count_1, count_2 = np.bincount(y_train)\n",
    "total = count_0 + count_1 + count_2\n",
    "\n",
    "for i in range(3):\n",
    "    class_weight[i] = (1 / [count_0, count_1, count_2][i]) * total"
   ]
  },
  {
   "cell_type": "code",
   "execution_count": 38,
   "metadata": {},
   "outputs": [],
   "source": [
    "# Build model\n",
    "model_lstm = keras.Sequential([\n",
    "    keras.layers.Conv1D(filters=16, input_shape=(x_train_fft.shape[1], x_train_fft.shape[2]), kernel_size=(5), \n",
    "                        activation='tanh'), # , kernel_regularizer='l2', padding='same'),\n",
    "    \n",
    "    #keras.layers.LSTM(32, return_sequences=True),\n",
    "    #keras.layers.Dropout(0.2),\n",
    "    keras.layers.LSTM(32, return_sequences=False),\n",
    "    # keras.layers.Dropout(0.2),\n",
    "    \n",
    "    keras.layers.Dense(64, activation='relu'),\n",
    "    keras.layers.Dropout(0.2),\n",
    "    keras.layers.Dense(3, activation='softmax')\n",
    "])\n",
    "\n",
    "# Choose Adam optimizer & categorical crossentropy\n",
    "model_lstm.compile(optimizer='Adam', loss='sparse_categorical_crossentropy', \n",
    "                   metrics = ['accuracy'])"
   ]
  },
  {
   "cell_type": "code",
   "execution_count": 39,
   "metadata": {},
   "outputs": [
    {
     "name": "stdout",
     "output_type": "stream",
     "text": [
      "Epoch 1/10\n",
      "45360/45360 [==============================] - 241s 5ms/sample - loss: 1.4590 - acc: 0.8031\n",
      "Epoch 2/10\n",
      "45360/45360 [==============================] - 241s 5ms/sample - loss: 0.8656 - acc: 0.9159\n",
      "Epoch 3/10\n",
      "45360/45360 [==============================] - 238s 5ms/sample - loss: 0.7277 - acc: 0.9289\n",
      "Epoch 4/10\n",
      "45360/45360 [==============================] - 240s 5ms/sample - loss: 0.7094 - acc: 0.9281\n",
      "Epoch 5/10\n",
      "45360/45360 [==============================] - 271s 6ms/sample - loss: 0.6877 - acc: 0.9329\n",
      "Epoch 6/10\n",
      "45360/45360 [==============================] - 273s 6ms/sample - loss: 0.6594 - acc: 0.9341\n",
      "Epoch 7/10\n",
      "45360/45360 [==============================] - 260s 6ms/sample - loss: 0.6534 - acc: 0.9327s - loss: 0.65\n",
      "Epoch 8/10\n",
      "45360/45360 [==============================] - 263s 6ms/sample - loss: 0.6261 - acc: 0.9364\n",
      "Epoch 9/10\n",
      "45360/45360 [==============================] - 262s 6ms/sample - loss: 0.6170 - acc: 0.9384\n",
      "Epoch 10/10\n",
      "45360/45360 [==============================] - 241s 5ms/sample - loss: 0.6027 - acc: 0.9395\n"
     ]
    }
   ],
   "source": [
    "history_lstm = model_lstm.fit(x_train_fft, y_train, class_weight=class_weight, epochs=10)"
   ]
  },
  {
   "cell_type": "code",
   "execution_count": 40,
   "metadata": {},
   "outputs": [
    {
     "name": "stdout",
     "output_type": "stream",
     "text": [
      "F1 score on training data: 0.890\n"
     ]
    }
   ],
   "source": [
    "train_f1 = f1_score(y_train, np.argmax(model_lstm.predict(x_train_fft), axis=1), average='macro')\n",
    "print(f'F1 score on training data: {train_f1:.3f}')"
   ]
  },
  {
   "cell_type": "markdown",
   "metadata": {},
   "source": [
    "### Evaluate on Test Data"
   ]
  },
  {
   "cell_type": "code",
   "execution_count": null,
   "metadata": {},
   "outputs": [],
   "source": [
    "x_test = load_testing_data()"
   ]
  },
  {
   "cell_type": "code",
   "execution_count": null,
   "metadata": {},
   "outputs": [],
   "source": [
    "# Get prediction & generate submission file\n",
    "y_test_pred = model_lstm.predict(x_test)\n",
    "data.generate_submission(y_test_pred, 'LSTM_Pred')"
   ]
  }
 ],
 "metadata": {
  "kernelspec": {
   "display_name": "Python 3",
   "language": "python",
   "name": "python3"
  },
  "language_info": {
   "codemirror_mode": {
    "name": "ipython",
    "version": 3
   },
   "file_extension": ".py",
   "mimetype": "text/x-python",
   "name": "python",
   "nbconvert_exporter": "python",
   "pygments_lexer": "ipython3",
   "version": "3.7.8"
  }
 },
 "nbformat": 4,
 "nbformat_minor": 4
}
